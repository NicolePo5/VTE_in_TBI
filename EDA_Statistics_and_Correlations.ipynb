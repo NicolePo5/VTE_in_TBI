{
  "nbformat": 4,
  "nbformat_minor": 0,
  "metadata": {
    "colab": {
      "provenance": []
    },
    "kernelspec": {
      "name": "python3",
      "display_name": "Python 3"
    },
    "language_info": {
      "name": "python"
    }
  },
  "cells": [
    {
      "cell_type": "code",
      "execution_count": null,
      "metadata": {
        "id": "IEeDuZQALDwd"
      },
      "outputs": [],
      "source": [
        "df_cleaned = pd.read_csv(\"../datasets/vte_df_cleaned.xls\", low_memory=False)"
      ]
    },
    {
      "cell_type": "markdown",
      "source": [
        "### Duplicate Check"
      ],
      "metadata": {
        "id": "43A8lo7GsvnP"
      }
    },
    {
      "cell_type": "code",
      "source": [
        "num_duplicates = df_cleaned.duplicated().sum()\n",
        "print(f\"Number of duplicate rows: {num_duplicates}\")"
      ],
      "metadata": {
        "id": "RzpV7lBuMKBV"
      },
      "execution_count": null,
      "outputs": []
    },
    {
      "cell_type": "markdown",
      "source": [
        "### Numeric columns Statistics"
      ],
      "metadata": {
        "id": "22HAQYM-s0iO"
      }
    },
    {
      "cell_type": "code",
      "source": [
        "df_cleaned[numeric_cols].describe().T"
      ],
      "metadata": {
        "id": "PtYQYC4FQ7hq"
      },
      "execution_count": null,
      "outputs": []
    },
    {
      "cell_type": "markdown",
      "source": [
        "### Creating the Classification Outcome\n"
      ],
      "metadata": {
        "id": "jRNZHKsr13JS"
      }
    },
    {
      "cell_type": "code",
      "source": [
        "df_cleaned[\"any_vte_result\"] = (\n",
        "    (df_cleaned[\"vte_i82_after-diagnosis_binary\"] == 1) |\n",
        "    (df_cleaned[\"pe_i26_after-diagnosis_binary\"] == 1) |\n",
        "    (df_cleaned[\"dvt_i82.4_after-diagnosis_binary\"] == 1)\n",
        ").astype(int).astype(\"category\")"
      ],
      "metadata": {
        "id": "6grBxMaI10Si"
      },
      "execution_count": null,
      "outputs": []
    },
    {
      "cell_type": "markdown",
      "source": [
        "### Baseline and Follow-up Characteristics by VTE and Mortality Outcomes\n"
      ],
      "metadata": {
        "id": "k4GImjRdscZl"
      }
    },
    {
      "cell_type": "code",
      "source": [
        "# VTE:\n",
        "\n",
        "categorical_cols_filtered = [col for col in category_cols if col != \"any_vte_result\"]\n",
        "baseline_vars = [col for col in numeric_cols + categorical_cols_filtered if col in df_cleaned.columns]\n",
        "categorical_cols = [col for col in categorical_cols_filtered if col in baseline_vars]\n",
        "# Create VTE/no VTE statistics table (later divided into two tables: Table 1 for baseline features and Table 2 for follow-up features)\n",
        "table1 = TableOne(\n",
        "    df_cleaned,\n",
        "    columns=baseline_vars,\n",
        "    categorical=categorical_cols,\n",
        "    groupby=\"any_vte_result\",\n",
        "    pval=True\n",
        ")\n",
        "\n",
        "# Mortality:\n",
        "\n",
        "categorical_cols_table2 = [col for col in category_cols if col != \"death_within_18_months\"]\n",
        "baseline_vars2 = [col for col in numeric_cols + categorical_cols_table2 if col in df_cleaned.columns]\n",
        "# Create Death/no Death statistics table (later divided into two tables: Table 3 for baseline features and Table 4 for follow-up features)\n",
        "table2 = TableOne(\n",
        "    df_cleaned,\n",
        "    columns=baseline_vars2,\n",
        "    categorical=categorical_cols_table2,\n",
        "    groupby=\"death_within_18_months\",\n",
        "    pval=True\n",
        ")"
      ],
      "metadata": {
        "id": "G4iLbRkaMY7D"
      },
      "execution_count": null,
      "outputs": []
    },
    {
      "cell_type": "markdown",
      "source": [
        "### Missing Values and IQR EDA Check"
      ],
      "metadata": {
        "id": "GASUOX9Rsf1E"
      }
    },
    {
      "cell_type": "code",
      "source": [
        "# Missing values check\n",
        "missing_pct = df_cleaned.isnull().sum()/df_cleaned.shape[0]*100\n",
        "missing_pct[missing_pct > 0]\n",
        "\n",
        "# IQR check for numeric columns\n",
        "iqr_values = [(col, round(df_cleaned[col].quantile(0.75) - df_cleaned[col].quantile(0.25),2)) for col in numeric_cols]"
      ],
      "metadata": {
        "id": "xS7gfQc8Ovyn"
      },
      "execution_count": null,
      "outputs": []
    },
    {
      "cell_type": "markdown",
      "source": [
        "### Correlation Analysis"
      ],
      "metadata": {
        "id": "qTYZvQUispbf"
      }
    },
    {
      "cell_type": "code",
      "source": [
        "# Numeric VS Numeric\n",
        "\n",
        "significant_pairs = []\n",
        "\n",
        "for x1, x2 in numeric_pairs:\n",
        "    df_pair = df_cleaned[[x1, x2]].dropna()\n",
        "\n",
        "    if df_pair.shape[0] < 3:\n",
        "        continue\n",
        "\n",
        "    with warnings.catch_warnings():\n",
        "        warnings.simplefilter(\"ignore\")\n",
        "        corr, p = stats.spearmanr(df_pair[x1], df_pair[x2])\n",
        "\n",
        "    if p <= 0.05 and abs(corr) >= 0.5:\n",
        "        significant_pairs.append((x1, x2, corr, p))\n",
        "\n",
        "n = len(significant_pairs)\n",
        "cols = 2\n",
        "rows = (n + 1) // cols\n",
        "fig, ax = plt.subplots(rows, cols, figsize=(7 * cols, 5 * rows))\n",
        "ax = ax.flatten()\n",
        "\n",
        "for i, (x1, x2, corr, p) in enumerate(significant_pairs):\n",
        "    sns.scatterplot(data=df_cleaned, x=x1, y=x2, ax=ax[i])\n",
        "    ax[i].set_title(f'{x1} vs {x2}\\nCorr: {corr:.3f}, p-value: {p:.3f}', color='red')\n",
        "    ax[i].set_xlabel(\"\")\n",
        "    ax[i].set_ylabel(\"\")\n",
        "    ax[i].tick_params(labelsize=8)\n",
        "\n",
        "for j in range(i + 1, len(ax)):\n",
        "    fig.delaxes(ax[j])\n",
        "\n",
        "plt.tight_layout()\n",
        "plt.show()\n",
        "\n",
        "# Categorical vs Categorical\n",
        "\n",
        "def cramers_v_with_pval(x, y):\n",
        "    table = pd.crosstab(x, y)\n",
        "    chi2, p, _, _ = chi2_contingency(table)\n",
        "    n = table.sum().sum()\n",
        "    r, k = table.shape\n",
        "    if min(r, k) <= 1:\n",
        "        return np.nan, np.nan\n",
        "    cramers_v = np.sqrt(chi2 / (n * (min(r, k) - 1)))\n",
        "    return cramers_v, p\n",
        "\n",
        "results = []\n",
        "\n",
        "for var1, var2 in combinations(category_cols, 2):\n",
        "    v, p = cramers_v_with_pval(df_cleaned[var1], df_cleaned[var2])\n",
        "    if not np.isnan(v) and v > 0.5 and p <= 0.05:\n",
        "        results.append((var1, var2, round(v, 3), round(p, 4)))\n",
        "\n",
        "\n",
        "# Numerical VS Categorical\n",
        "\n",
        "fig, axes = plt.subplots(2, 3, figsize=(18, 10))\n",
        "axes = axes.flatten()\n",
        "plot_index = 0\n",
        "\n",
        "for num_var, cat_var in num_cat_pairs:\n",
        "    temp_df = df_cleaned[[num_var, cat_var]].dropna()\n",
        "    if temp_df.empty or len(temp_df[cat_var].unique()) < 2:\n",
        "        continue\n",
        "\n",
        "    cats = temp_df[cat_var].unique()\n",
        "\n",
        "    if len(cats) == 2:\n",
        "        group1 = temp_df[temp_df[cat_var] == cats[0]][num_var]\n",
        "        group2 = temp_df[temp_df[cat_var] == cats[1]][num_var]\n",
        "        stat, p = stats.mannwhitneyu(group1, group2)\n",
        "    else:\n",
        "        groups = [temp_df[temp_df[cat_var] == cat][num_var] for cat in cats]\n",
        "        stat, p = stats.kruskal(*groups)\n",
        "\n",
        "    if p <= 0.05:\n",
        "        try:\n",
        "            if len(cats) == 2 and pd.api.types.is_numeric_dtype(temp_df[cat_var]):\n",
        "                corr, _ = stats.pointbiserialr(temp_df[cat_var], temp_df[num_var])\n",
        "            else:\n",
        "                corr = round(stat / (stat + (len(temp_df) - len(cats))), 3)\n",
        "        except:\n",
        "            corr = None\n",
        "\n",
        "        x_name = display_names.get(cat_var, cat_var)\n",
        "        y_name = display_names.get(num_var, num_var)\n",
        "\n",
        "        sns.boxplot(data=temp_df, x=cat_var, y=num_var, ax=axes[plot_index])\n",
        "        axes[plot_index].set_xlabel(x_name)\n",
        "        axes[plot_index].set_ylabel(y_name)\n",
        "        title = f\"{y_name} vs {x_name}\\np = {p:.3f}\"\n",
        "        if corr is not None:\n",
        "            title += f\", correlation ≈ {corr:.2f}\"\n",
        "        axes[plot_index].set_title(title, color='red')\n",
        "        plot_index += 1\n",
        "\n",
        "        if plot_index >= len(axes):\n",
        "            break\n",
        "\n",
        "for i in range(plot_index, len(axes)):\n",
        "    fig.delaxes(axes[i])\n",
        "\n",
        "fig.tight_layout()\n",
        "plt.show()"
      ],
      "metadata": {
        "id": "riihbQG7Pauz"
      },
      "execution_count": null,
      "outputs": []
    }
  ]
}